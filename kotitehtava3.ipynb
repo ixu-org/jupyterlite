{
  "metadata": {
    "language_info": {
      "codemirror_mode": {
        "name": "python",
        "version": 3
      },
      "file_extension": ".py",
      "mimetype": "text/x-python",
      "name": "python",
      "nbconvert_exporter": "python",
      "pygments_lexer": "ipython3",
      "version": "3.8"
    },
    "kernelspec": {
      "name": "python",
      "display_name": "Python (Pyodide)",
      "language": "python"
    }
  },
  "nbformat_minor": 4,
  "nbformat": 4,
  "cells": [
    {
      "cell_type": "code",
      "source": "#c1vasa01\n#t2ylsa01\nimport numpy as np\nimport pandas as pd\nimport matplotlib.pyplot as plt\n'''\n1. Muokkaa Pandas data framea siten, että valitset sieltä mielenkiintoisimmat sarakkeet, \n   jotka ovat:\n   Country,Land Area, Armed Forces size,Co2-Emissions,GDP,Life expectancy,Population, Total tax rate, Unemployment rate\n   Vinkki: Kysy chatGPT:ltä neuvoa, tehtävän eri vaiheissa. Sieltä saat hyviä toimivia esimerkkikoodeja käyttöösi.\n'''\n# Luetaan CSV-tiedosto DataFrameen\ndf = pd.read_csv('world-data-2023.csv', quotechar='\"', skipinitialspace=True)\n\n# Valitaan relevantit sarakkeet\nselected_columns = [\n    'Country', \n    'Land Area(Km2)', \n    'Armed Forces size', \n    'Co2-Emissions', \n    'GDP', \n    'Life expectancy', \n    'Population', \n    'Total tax rate', \n    'Unemployment rate'\n]\ndf = df[selected_columns]\n\n# Muunnetaan sarakkeiden nimet koodiystävällisempään.\ndf.rename(\n    columns={\n        'Land Area(Km2)': 'Land_Area', \n        'Armed Forces size': 'Armed_Forces_size', \n        'Co2-Emissions': 'Co2_Emissions'\n    }, \n    inplace=True\n)\n'''\n2. Taulukossa on NaN lukuja, jotka ovat ongelmiallisia maksimi arvoja haettaessa. Muuta kaikki Nan => 0.\n   Taulukossa on myös $ ja % merkkejä, jotka kannattaa muuttaa tyhjiksi merkeiksi ennen laskuoperaatioita.\n   Taulukon numerot on esitetty muodossa 3,003,000 eli pilkut pitää muuttaa tyhjiksi merkeiksi.\n'''\ndf.fillna(0, inplace=True)  # Korvataan NaN arvot nollalla\n\n# Poistetaan $, % merkit ja korvataan pilkut numeroissa\nfor col in df.select_dtypes(include=['object']).columns:\n    df[col] = df[col].str.replace(',', '', regex=True)\n    df[col] = df[col].str.replace('$', '', regex=True)\n    df[col] = df[col].str.replace('%', '', regex=True)\n\n# Muunnetaan objektityypit sopiviin numerotyyppeihin\nfor col in df.columns[1:]:\n    df[col] = pd.to_numeric(df[col], errors='coerce')\n\n# Tehtävät:\n\n# a) Maa, jolla on suurimmat asevoimat\nlargest_armed_forces_country = df.loc[df['Armed_Forces_size'].idxmax()]['Country']\n\n# b) Maa, jolla on eniten sotilaita verrattuna maapinta-alaan\ndf['Soldiers_per_km'] = df['Armed_Forces_size'] / df['Land_Area']\nmost_soldiers_per_km_country = df.loc[df['Soldiers_per_km'].idxmax()]['Country']\n\n# c) Maa, jolla on eniten sotilaita verrattuna väestöön\ndf['Soldiers_per_capita'] = df['Armed_Forces_size'] / df['Population']\nmost_soldiers_per_capita_country = df.loc[df['Soldiers_per_capita'].idxmax()]['Country']\n\n# d) Top 5 CO2-päästöt\ntop_co2_emitters = df.nlargest(5, 'Co2_Emissions')['Country'].tolist()\n\nfeatures2normalize = ['GDP', 'Life expectancy', 'Total tax rate', 'Unemployment rate']\ndf_normalized = df.copy()\nfor feature in features2normalize:\n    max_value = df[feature].max()\n    min_value = df[feature].min()\n    df_normalized[feature] = (df[feature] - min_value) / (max_value - min_value)\n\n# Painoarvot\nweights = {\n    'GDP': 0.50,\n    'Life expectancy': 0.25,\n    'Total tax rate': 0.15,\n    'Unemployment rate': 0.10\n}\n\n# KOrjataan mahdolliset painoarvojen epätarkkuudet ja varmistetaan niiden summautuvan tasalukuun 1.\nrounded_sum = round(sum(weights.values()), 10)\nif rounded_sum != 1:\n    raise ValueError(\"The sum of weights must be 1\")\n\n\n# Pistemäärät\ndf_normalized['Score'] = (\n    df_normalized['GDP'] * weights['GDP'] +\n    df_normalized['Life expectancy'] * weights['Life expectancy'] +\n    df_normalized['Total tax rate'] * weights['Total tax rate'] +\n    (1 - df_normalized['Unemployment rate']) * weights['Unemployment rate']\n)\n\n# Järjestetään haetut lopputulokset painoarvojen mukaisesti.\ndf_best_W = df_normalized.nlargest(5, 'Score')[['Country', 'Score']]\n\n\n# Tulostetaan tulokset\nprint(f\"a) Maat joilla on suurimmat asejoukot: {largest_armed_forces_country}\")\nprint(f\"b) Maa joilla on eniten sotilaita maan kokoon verrattuna: {most_soldiers_per_km_country}\")\nprint(f\"c) Maa jolla on eniten sotilaita väestöön verrattuna on: {most_soldiers_per_capita_country}\")\nprint(f\"d) Top 5 CO2 päästäjää: {top_co2_emitters}\")\nprint(f\"e) Top 5 valtiot joihin kannattaisi mennä töihin valmistumisen jälkeen:\")\nprint(df_best_W)",
      "metadata": {
        "trusted": true
      },
      "execution_count": 4,
      "outputs": [
        {
          "name": "stdout",
          "text": "a) Maat joilla on suurimmat asejoukot: India\nb) Maa joilla on eniten sotilaita maan kokoon verrattuna: Singapore\nc) Maa jolla on eniten sotilaita väestöön verrattuna on: North Korea\nd) Top 5 CO2 päästäjää: ['China', 'United States', 'India', 'Russia', 'Japan']\ne) Top 5 valtiot joihin kannattaisi mennä töihin valmistumisen jälkeen:\n           Country     Score\n36           China  0.811231\n186  United States  0.798064\n85           Japan  0.484668\n64         Germany  0.444981\n38         Comoros  0.422543\n",
          "output_type": "stream"
        }
      ]
    },
    {
      "cell_type": "code",
      "source": "",
      "metadata": {},
      "execution_count": null,
      "outputs": []
    }
  ]
}